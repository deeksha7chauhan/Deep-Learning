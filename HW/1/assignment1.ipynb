{
 "cells": [
  {
   "cell_type": "markdown",
   "id": "3c1b0c5e-28ff-4817-88b9-6a4b21e2ea94",
   "metadata": {},
   "source": [
    "### Imports"
   ]
  },
  {
   "cell_type": "code",
   "execution_count": 2,
   "id": "46b28d1a-6f25-4b62-a376-922e4586d7d8",
   "metadata": {},
   "outputs": [],
   "source": [
    "import pandas as pd\n",
    "import numpy as np\n",
    "import matplotlib.pyplot as plt"
   ]
  },
  {
   "cell_type": "markdown",
   "id": "e2bd5437-8acb-4039-b330-da035f030ff2",
   "metadata": {},
   "source": [
    "### 1. (2pts) Display the sample images"
   ]
  },
  {
   "cell_type": "code",
   "execution_count": 4,
   "id": "94731826-348b-49fb-9005-1733a277570c",
   "metadata": {},
   "outputs": [
    {
     "data": {
      "text/html": [
       "<div>\n",
       "<style scoped>\n",
       "    .dataframe tbody tr th:only-of-type {\n",
       "        vertical-align: middle;\n",
       "    }\n",
       "\n",
       "    .dataframe tbody tr th {\n",
       "        vertical-align: top;\n",
       "    }\n",
       "\n",
       "    .dataframe thead th {\n",
       "        text-align: right;\n",
       "    }\n",
       "</style>\n",
       "<table border=\"1\" class=\"dataframe\">\n",
       "  <thead>\n",
       "    <tr style=\"text-align: right;\">\n",
       "      <th></th>\n",
       "      <th>label</th>\n",
       "      <th>1x1</th>\n",
       "      <th>1x2</th>\n",
       "      <th>1x3</th>\n",
       "      <th>1x4</th>\n",
       "      <th>1x5</th>\n",
       "      <th>1x6</th>\n",
       "      <th>1x7</th>\n",
       "      <th>1x8</th>\n",
       "      <th>1x9</th>\n",
       "      <th>...</th>\n",
       "      <th>28x19</th>\n",
       "      <th>28x20</th>\n",
       "      <th>28x21</th>\n",
       "      <th>28x22</th>\n",
       "      <th>28x23</th>\n",
       "      <th>28x24</th>\n",
       "      <th>28x25</th>\n",
       "      <th>28x26</th>\n",
       "      <th>28x27</th>\n",
       "      <th>28x28</th>\n",
       "    </tr>\n",
       "  </thead>\n",
       "  <tbody>\n",
       "    <tr>\n",
       "      <th>0</th>\n",
       "      <td>1</td>\n",
       "      <td>0</td>\n",
       "      <td>0</td>\n",
       "      <td>0</td>\n",
       "      <td>0</td>\n",
       "      <td>0</td>\n",
       "      <td>0</td>\n",
       "      <td>0</td>\n",
       "      <td>0</td>\n",
       "      <td>0</td>\n",
       "      <td>...</td>\n",
       "      <td>0</td>\n",
       "      <td>0</td>\n",
       "      <td>0</td>\n",
       "      <td>0</td>\n",
       "      <td>0</td>\n",
       "      <td>0</td>\n",
       "      <td>0</td>\n",
       "      <td>0</td>\n",
       "      <td>0</td>\n",
       "      <td>0</td>\n",
       "    </tr>\n",
       "    <tr>\n",
       "      <th>1</th>\n",
       "      <td>1</td>\n",
       "      <td>0</td>\n",
       "      <td>0</td>\n",
       "      <td>0</td>\n",
       "      <td>0</td>\n",
       "      <td>0</td>\n",
       "      <td>0</td>\n",
       "      <td>0</td>\n",
       "      <td>0</td>\n",
       "      <td>0</td>\n",
       "      <td>...</td>\n",
       "      <td>0</td>\n",
       "      <td>0</td>\n",
       "      <td>0</td>\n",
       "      <td>0</td>\n",
       "      <td>0</td>\n",
       "      <td>0</td>\n",
       "      <td>0</td>\n",
       "      <td>0</td>\n",
       "      <td>0</td>\n",
       "      <td>0</td>\n",
       "    </tr>\n",
       "    <tr>\n",
       "      <th>2</th>\n",
       "      <td>1</td>\n",
       "      <td>0</td>\n",
       "      <td>0</td>\n",
       "      <td>0</td>\n",
       "      <td>0</td>\n",
       "      <td>0</td>\n",
       "      <td>0</td>\n",
       "      <td>0</td>\n",
       "      <td>0</td>\n",
       "      <td>0</td>\n",
       "      <td>...</td>\n",
       "      <td>0</td>\n",
       "      <td>0</td>\n",
       "      <td>0</td>\n",
       "      <td>0</td>\n",
       "      <td>0</td>\n",
       "      <td>0</td>\n",
       "      <td>0</td>\n",
       "      <td>0</td>\n",
       "      <td>0</td>\n",
       "      <td>0</td>\n",
       "    </tr>\n",
       "    <tr>\n",
       "      <th>3</th>\n",
       "      <td>0</td>\n",
       "      <td>0</td>\n",
       "      <td>0</td>\n",
       "      <td>0</td>\n",
       "      <td>0</td>\n",
       "      <td>0</td>\n",
       "      <td>0</td>\n",
       "      <td>0</td>\n",
       "      <td>0</td>\n",
       "      <td>0</td>\n",
       "      <td>...</td>\n",
       "      <td>0</td>\n",
       "      <td>0</td>\n",
       "      <td>0</td>\n",
       "      <td>0</td>\n",
       "      <td>0</td>\n",
       "      <td>0</td>\n",
       "      <td>0</td>\n",
       "      <td>0</td>\n",
       "      <td>0</td>\n",
       "      <td>0</td>\n",
       "    </tr>\n",
       "    <tr>\n",
       "      <th>4</th>\n",
       "      <td>0</td>\n",
       "      <td>0</td>\n",
       "      <td>0</td>\n",
       "      <td>0</td>\n",
       "      <td>0</td>\n",
       "      <td>0</td>\n",
       "      <td>0</td>\n",
       "      <td>0</td>\n",
       "      <td>0</td>\n",
       "      <td>0</td>\n",
       "      <td>...</td>\n",
       "      <td>0</td>\n",
       "      <td>0</td>\n",
       "      <td>0</td>\n",
       "      <td>0</td>\n",
       "      <td>0</td>\n",
       "      <td>0</td>\n",
       "      <td>0</td>\n",
       "      <td>0</td>\n",
       "      <td>0</td>\n",
       "      <td>0</td>\n",
       "    </tr>\n",
       "    <tr>\n",
       "      <th>...</th>\n",
       "      <td>...</td>\n",
       "      <td>...</td>\n",
       "      <td>...</td>\n",
       "      <td>...</td>\n",
       "      <td>...</td>\n",
       "      <td>...</td>\n",
       "      <td>...</td>\n",
       "      <td>...</td>\n",
       "      <td>...</td>\n",
       "      <td>...</td>\n",
       "      <td>...</td>\n",
       "      <td>...</td>\n",
       "      <td>...</td>\n",
       "      <td>...</td>\n",
       "      <td>...</td>\n",
       "      <td>...</td>\n",
       "      <td>...</td>\n",
       "      <td>...</td>\n",
       "      <td>...</td>\n",
       "      <td>...</td>\n",
       "      <td>...</td>\n",
       "    </tr>\n",
       "    <tr>\n",
       "      <th>11334</th>\n",
       "      <td>0</td>\n",
       "      <td>0</td>\n",
       "      <td>0</td>\n",
       "      <td>0</td>\n",
       "      <td>0</td>\n",
       "      <td>0</td>\n",
       "      <td>0</td>\n",
       "      <td>0</td>\n",
       "      <td>0</td>\n",
       "      <td>0</td>\n",
       "      <td>...</td>\n",
       "      <td>0</td>\n",
       "      <td>0</td>\n",
       "      <td>0</td>\n",
       "      <td>0</td>\n",
       "      <td>0</td>\n",
       "      <td>0</td>\n",
       "      <td>0</td>\n",
       "      <td>0</td>\n",
       "      <td>0</td>\n",
       "      <td>0</td>\n",
       "    </tr>\n",
       "    <tr>\n",
       "      <th>11335</th>\n",
       "      <td>1</td>\n",
       "      <td>0</td>\n",
       "      <td>0</td>\n",
       "      <td>0</td>\n",
       "      <td>0</td>\n",
       "      <td>0</td>\n",
       "      <td>0</td>\n",
       "      <td>0</td>\n",
       "      <td>0</td>\n",
       "      <td>0</td>\n",
       "      <td>...</td>\n",
       "      <td>0</td>\n",
       "      <td>0</td>\n",
       "      <td>0</td>\n",
       "      <td>0</td>\n",
       "      <td>0</td>\n",
       "      <td>0</td>\n",
       "      <td>0</td>\n",
       "      <td>0</td>\n",
       "      <td>0</td>\n",
       "      <td>0</td>\n",
       "    </tr>\n",
       "    <tr>\n",
       "      <th>11336</th>\n",
       "      <td>1</td>\n",
       "      <td>0</td>\n",
       "      <td>0</td>\n",
       "      <td>0</td>\n",
       "      <td>0</td>\n",
       "      <td>0</td>\n",
       "      <td>0</td>\n",
       "      <td>0</td>\n",
       "      <td>0</td>\n",
       "      <td>0</td>\n",
       "      <td>...</td>\n",
       "      <td>0</td>\n",
       "      <td>0</td>\n",
       "      <td>0</td>\n",
       "      <td>0</td>\n",
       "      <td>0</td>\n",
       "      <td>0</td>\n",
       "      <td>0</td>\n",
       "      <td>0</td>\n",
       "      <td>0</td>\n",
       "      <td>0</td>\n",
       "    </tr>\n",
       "    <tr>\n",
       "      <th>11337</th>\n",
       "      <td>1</td>\n",
       "      <td>0</td>\n",
       "      <td>0</td>\n",
       "      <td>0</td>\n",
       "      <td>0</td>\n",
       "      <td>0</td>\n",
       "      <td>0</td>\n",
       "      <td>0</td>\n",
       "      <td>0</td>\n",
       "      <td>0</td>\n",
       "      <td>...</td>\n",
       "      <td>0</td>\n",
       "      <td>0</td>\n",
       "      <td>0</td>\n",
       "      <td>0</td>\n",
       "      <td>0</td>\n",
       "      <td>0</td>\n",
       "      <td>0</td>\n",
       "      <td>0</td>\n",
       "      <td>0</td>\n",
       "      <td>0</td>\n",
       "    </tr>\n",
       "    <tr>\n",
       "      <th>11338</th>\n",
       "      <td>0</td>\n",
       "      <td>0</td>\n",
       "      <td>0</td>\n",
       "      <td>0</td>\n",
       "      <td>0</td>\n",
       "      <td>0</td>\n",
       "      <td>0</td>\n",
       "      <td>0</td>\n",
       "      <td>0</td>\n",
       "      <td>0</td>\n",
       "      <td>...</td>\n",
       "      <td>0</td>\n",
       "      <td>0</td>\n",
       "      <td>0</td>\n",
       "      <td>0</td>\n",
       "      <td>0</td>\n",
       "      <td>0</td>\n",
       "      <td>0</td>\n",
       "      <td>0</td>\n",
       "      <td>0</td>\n",
       "      <td>0</td>\n",
       "    </tr>\n",
       "  </tbody>\n",
       "</table>\n",
       "<p>11339 rows × 785 columns</p>\n",
       "</div>"
      ],
      "text/plain": [
       "       label  1x1  1x2  1x3  1x4  1x5  1x6  1x7  1x8  1x9  ...  28x19  28x20  \\\n",
       "0          1    0    0    0    0    0    0    0    0    0  ...      0      0   \n",
       "1          1    0    0    0    0    0    0    0    0    0  ...      0      0   \n",
       "2          1    0    0    0    0    0    0    0    0    0  ...      0      0   \n",
       "3          0    0    0    0    0    0    0    0    0    0  ...      0      0   \n",
       "4          0    0    0    0    0    0    0    0    0    0  ...      0      0   \n",
       "...      ...  ...  ...  ...  ...  ...  ...  ...  ...  ...  ...    ...    ...   \n",
       "11334      0    0    0    0    0    0    0    0    0    0  ...      0      0   \n",
       "11335      1    0    0    0    0    0    0    0    0    0  ...      0      0   \n",
       "11336      1    0    0    0    0    0    0    0    0    0  ...      0      0   \n",
       "11337      1    0    0    0    0    0    0    0    0    0  ...      0      0   \n",
       "11338      0    0    0    0    0    0    0    0    0    0  ...      0      0   \n",
       "\n",
       "       28x21  28x22  28x23  28x24  28x25  28x26  28x27  28x28  \n",
       "0          0      0      0      0      0      0      0      0  \n",
       "1          0      0      0      0      0      0      0      0  \n",
       "2          0      0      0      0      0      0      0      0  \n",
       "3          0      0      0      0      0      0      0      0  \n",
       "4          0      0      0      0      0      0      0      0  \n",
       "...      ...    ...    ...    ...    ...    ...    ...    ...  \n",
       "11334      0      0      0      0      0      0      0      0  \n",
       "11335      0      0      0      0      0      0      0      0  \n",
       "11336      0      0      0      0      0      0      0      0  \n",
       "11337      0      0      0      0      0      0      0      0  \n",
       "11338      0      0      0      0      0      0      0      0  \n",
       "\n",
       "[11339 rows x 785 columns]"
      ]
     },
     "execution_count": 4,
     "metadata": {},
     "output_type": "execute_result"
    }
   ],
   "source": [
    "df = pd.read_csv(\"mnist_train_binary.csv\")\n",
    "df"
   ]
  },
  {
   "cell_type": "code",
   "execution_count": 5,
   "id": "af74764a-2214-4a19-af8e-889779e5e073",
   "metadata": {},
   "outputs": [],
   "source": [
    "y = df.iloc[:, 0].values"
   ]
  },
  {
   "cell_type": "code",
   "execution_count": 6,
   "id": "25d753b1-8dc4-4ee6-b483-786ad2ee7847",
   "metadata": {},
   "outputs": [],
   "source": [
    "X = df.iloc[:, 1:].values"
   ]
  },
  {
   "cell_type": "code",
   "execution_count": 7,
   "id": "4771c54d-7f82-4f4a-af49-bf9b9fa0d73c",
   "metadata": {},
   "outputs": [],
   "source": [
    "X = np.reshape(X, newshape=(X.shape[0], 28, 28))"
   ]
  },
  {
   "cell_type": "markdown",
   "id": "8c6738d5-8b4e-4f94-b4da-94e1b81ae714",
   "metadata": {},
   "source": [
    "##### Normalize"
   ]
  },
  {
   "cell_type": "code",
   "execution_count": 9,
   "id": "1a5eb3ec-b785-43cf-8b05-c85d0e252741",
   "metadata": {},
   "outputs": [],
   "source": [
    "X = X / 255.0"
   ]
  },
  {
   "cell_type": "code",
   "execution_count": 10,
   "id": "7f11408f-3975-4a2b-9c64-ff8478ff1369",
   "metadata": {},
   "outputs": [
    {
     "data": {
      "image/png": "[encoded data removed]",
      "text/plain": [
       "<Figure size 640x480 with 9 Axes>"
      ]
     },
     "metadata": {},
     "output_type": "display_data"
    }
   ],
   "source": [
    "for i in range(9):\n",
    "    plt.subplot(3, 3, (i + 1))\n",
    "    plt.imshow(X[i], cmap=\"gray\")\n",
    "    plt.title(f\"Label: {y[i]}\")\n",
    "    plt.axis('off')"
   ]
  },
  {
   "cell_type": "code",
   "execution_count": 11,
   "id": "f4cef3fd-78fb-48ea-9948-c50f8c7df1f7",
   "metadata": {},
   "outputs": [],
   "source": [
    "X = np.reshape(X, newshape=(X.shape[0], 784))"
   ]
  },
  {
   "cell_type": "code",
   "execution_count": 12,
   "id": "188cac33-8366-4f45-bea2-e23e27ffe784",
   "metadata": {},
   "outputs": [
    {
     "name": "stdout",
     "output_type": "stream",
     "text": [
      "(11339, 784)\n"
     ]
    }
   ],
   "source": [
    "print(X.shape)"
   ]
  },
  {
   "cell_type": "markdown",
   "id": "67408121-dca9-4329-9569-82c67dde021f",
   "metadata": {},
   "source": [
    "### 2. (5pts) Build Neural Network"
   ]
  },
  {
   "cell_type": "code",
   "execution_count": 14,
   "id": "f12d61c8-1005-4a96-b6bb-6f567ac8449c",
   "metadata": {},
   "outputs": [
    {
     "name": "stdout",
     "output_type": "stream",
     "text": [
      "Requirement already satisfied: torch in c:\\users\\mahen\\anaconda3\\lib\\site-packages (2.8.0)\n",
      "Requirement already satisfied: torchvision in c:\\users\\mahen\\anaconda3\\lib\\site-packages (0.23.0)\n",
      "Requirement already satisfied: torchaudio in c:\\users\\mahen\\anaconda3\\lib\\site-packages (2.8.0)\n",
      "Requirement already satisfied: filelock in c:\\users\\mahen\\anaconda3\\lib\\site-packages (from torch) (3.13.1)\n",
      "Requirement already satisfied: typing-extensions>=4.10.0 in c:\\users\\mahen\\anaconda3\\lib\\site-packages (from torch) (4.11.0)\n",
      "Requirement already satisfied: sympy>=1.13.3 in c:\\users\\mahen\\anaconda3\\lib\\site-packages (from torch) (1.14.0)\n",
      "Requirement already satisfied: networkx in c:\\users\\mahen\\anaconda3\\lib\\site-packages (from torch) (3.3)\n",
      "Requirement already satisfied: jinja2 in c:\\users\\mahen\\anaconda3\\lib\\site-packages (from torch) (3.1.4)\n",
      "Requirement already satisfied: fsspec in c:\\users\\mahen\\anaconda3\\lib\\site-packages (from torch) (2024.6.1)\n",
      "Requirement already satisfied: setuptools in c:\\users\\mahen\\anaconda3\\lib\\site-packages (from torch) (75.1.0)\n",
      "Requirement already satisfied: numpy in c:\\users\\mahen\\anaconda3\\lib\\site-packages (from torchvision) (1.26.4)\n",
      "Requirement already satisfied: pillow!=8.3.*,>=5.3.0 in c:\\users\\mahen\\anaconda3\\lib\\site-packages (from torchvision) (10.4.0)\n",
      "Requirement already satisfied: mpmath<1.4,>=1.1.0 in c:\\users\\mahen\\anaconda3\\lib\\site-packages (from sympy>=1.13.3->torch) (1.3.0)\n",
      "Requirement already satisfied: MarkupSafe>=2.0 in c:\\users\\mahen\\anaconda3\\lib\\site-packages (from jinja2->torch) (2.1.3)\n"
     ]
    }
   ],
   "source": [
    "!pip install torch torchvision torchaudio"
   ]
  },
  {
   "cell_type": "code",
   "execution_count": 15,
   "id": "ade8a36b-a73b-412d-b382-82755d5d458e",
   "metadata": {},
   "outputs": [
    {
     "data": {
      "text/plain": [
       "<torch._C.Generator at 0x24af6345a50>"
      ]
     },
     "execution_count": 15,
     "metadata": {},
     "output_type": "execute_result"
    }
   ],
   "source": [
    "import os\n",
    "import torch\n",
    "from torch import nn\n",
    "from torch.utils.data import DataLoader\n",
    "torch.manual_seed(0)"
   ]
  },
  {
   "cell_type": "code",
   "execution_count": 16,
   "id": "15576a47-5816-4e58-907e-c56ddfdb6f10",
   "metadata": {},
   "outputs": [],
   "source": [
    "def sigmoid(z):\n",
    "    return 1.0 / (1.0 + torch.exp(-z))"
   ]
  },
  {
   "cell_type": "code",
   "execution_count": 17,
   "id": "65dec0b2-c188-45c2-bb88-1e3c55a54c46",
   "metadata": {},
   "outputs": [],
   "source": [
    "class NeuralNetwork(nn.Module):\n",
    "    def __init__(self, input_layer=784, hidden_layer=100, output_layer=1):\n",
    "        super(NeuralNetwork, self).__init__()\n",
    "\n",
    "        self.W1 = nn.Parameter(torch.randn(input_layer, hidden_layer))\n",
    "        self.b1 = nn.Parameter(torch.zeros(hidden_layer))\n",
    "        self.W2 = nn.Parameter(torch.randn(hidden_layer, output_layer))\n",
    "        self.b2 = nn.Parameter(torch.zeros(output_layer))\n",
    "\n",
    "    def forward(self, x):\n",
    "        z1 = x @ self.W1 + self.b1\n",
    "        a1 = sigmoid(z1)\n",
    "        \n",
    "        z2 = a1 @ self.W2 + self.b2\n",
    "        a2 = sigmoid(z2)\n",
    "        \n",
    "        return a2\n",
    "\n",
    "model = NeuralNetwork()"
   ]
  },
  {
   "cell_type": "code",
   "execution_count": 18,
   "id": "df97786f-d126-4607-b6de-0d3815363561",
   "metadata": {},
   "outputs": [],
   "source": [
    "in_64 = X[:64, :]\n",
    "in_64_tensor = torch.tensor(in_64, dtype=torch.float32)"
   ]
  },
  {
   "cell_type": "code",
   "execution_count": 19,
   "id": "b28941ac-c4f6-4c1c-85ba-b486b65a98d3",
   "metadata": {},
   "outputs": [
    {
     "data": {
      "text/plain": [
       "torch.Size([64, 784])"
      ]
     },
     "execution_count": 19,
     "metadata": {},
     "output_type": "execute_result"
    }
   ],
   "source": [
    "in_64_tensor.shape"
   ]
  },
  {
   "cell_type": "code",
   "execution_count": 20,
   "id": "7d32cc01-baed-4b9d-ad08-e56f69bafa60",
   "metadata": {},
   "outputs": [],
   "source": [
    "out = model.forward(in_64_tensor)"
   ]
  },
  {
   "cell_type": "code",
   "execution_count": 21,
   "id": "a67cde17-a522-4b3c-bc53-85177f49cfcc",
   "metadata": {},
   "outputs": [
    {
     "name": "stdout",
     "output_type": "stream",
     "text": [
      "tensor([[9.2001e-01],\n",
      "        [2.1043e-04],\n",
      "        [9.9809e-01],\n",
      "        [9.7942e-01],\n",
      "        [8.9150e-01],\n",
      "        [9.9667e-01],\n",
      "        [6.3076e-01],\n",
      "        [2.8362e-01],\n",
      "        [1.0373e-01],\n",
      "        [9.6768e-04],\n",
      "        [7.8245e-01],\n",
      "        [8.6754e-01],\n",
      "        [3.7001e-01],\n",
      "        [9.6391e-01],\n",
      "        [9.9798e-01],\n",
      "        [2.7702e-01],\n",
      "        [1.7503e-01],\n",
      "        [3.3276e-02],\n",
      "        [6.4735e-01],\n",
      "        [7.3990e-01],\n",
      "        [1.8580e-03],\n",
      "        [5.1556e-02],\n",
      "        [1.0480e-02],\n",
      "        [3.0749e-04],\n",
      "        [9.9538e-04],\n",
      "        [9.8881e-01],\n",
      "        [7.3967e-01],\n",
      "        [5.7079e-03],\n",
      "        [9.6129e-01],\n",
      "        [3.0863e-02],\n",
      "        [9.3821e-01],\n",
      "        [4.5954e-01],\n",
      "        [9.5484e-01],\n",
      "        [5.3747e-01],\n",
      "        [1.0370e-01],\n",
      "        [5.4575e-04],\n",
      "        [9.6406e-01],\n",
      "        [8.7770e-04],\n",
      "        [9.9619e-01],\n",
      "        [8.6039e-01],\n",
      "        [3.5806e-01],\n",
      "        [3.8310e-02],\n",
      "        [2.1998e-01],\n",
      "        [6.6496e-01],\n",
      "        [5.1349e-02],\n",
      "        [1.0571e-01],\n",
      "        [5.5262e-01],\n",
      "        [9.7762e-01],\n",
      "        [8.6120e-01],\n",
      "        [3.0163e-01],\n",
      "        [2.3370e-01],\n",
      "        [1.2885e-01],\n",
      "        [8.9747e-01],\n",
      "        [9.9371e-01],\n",
      "        [1.5385e-04],\n",
      "        [5.4595e-01],\n",
      "        [8.2553e-01],\n",
      "        [7.2756e-01],\n",
      "        [4.8860e-01],\n",
      "        [1.3091e-03],\n",
      "        [5.5140e-01],\n",
      "        [9.9782e-01],\n",
      "        [2.3399e-02],\n",
      "        [4.6920e-01]], grad_fn=<MulBackward0>)\n"
     ]
    }
   ],
   "source": [
    "print(out)"
   ]
  },
  {
   "cell_type": "code",
   "execution_count": 22,
   "id": "54736cc9-9c34-4ef7-a6fd-1175a89ae0be",
   "metadata": {},
   "outputs": [
    {
     "name": "stdout",
     "output_type": "stream",
     "text": [
      "torch.Size([64, 1])\n"
     ]
    }
   ],
   "source": [
    "print(out.shape)"
   ]
  },
  {
   "cell_type": "code",
   "execution_count": 23,
   "id": "4af45fda-c60f-44a0-b8db-03cb62451c60",
   "metadata": {},
   "outputs": [
    {
     "data": {
      "text/plain": [
       "tensor([9.2001e-01, 2.1043e-04, 9.9809e-01, 9.7942e-01, 8.9150e-01, 9.9667e-01,\n",
       "        6.3076e-01, 2.8362e-01, 1.0373e-01, 9.6768e-04, 7.8245e-01, 8.6754e-01,\n",
       "        3.7001e-01, 9.6391e-01, 9.9798e-01, 2.7702e-01, 1.7503e-01, 3.3276e-02,\n",
       "        6.4735e-01, 7.3990e-01, 1.8580e-03, 5.1556e-02, 1.0480e-02, 3.0749e-04,\n",
       "        9.9538e-04, 9.8881e-01, 7.3967e-01, 5.7079e-03, 9.6129e-01, 3.0863e-02,\n",
       "        9.3821e-01, 4.5954e-01, 9.5484e-01, 5.3747e-01, 1.0370e-01, 5.4575e-04,\n",
       "        9.6406e-01, 8.7770e-04, 9.9619e-01, 8.6039e-01, 3.5806e-01, 3.8310e-02,\n",
       "        2.1998e-01, 6.6496e-01, 5.1349e-02, 1.0571e-01, 5.5262e-01, 9.7762e-01,\n",
       "        8.6120e-01, 3.0163e-01, 2.3370e-01, 1.2885e-01, 8.9747e-01, 9.9371e-01,\n",
       "        1.5385e-04, 5.4595e-01, 8.2553e-01, 7.2756e-01, 4.8860e-01, 1.3091e-03,\n",
       "        5.5140e-01, 9.9782e-01, 2.3399e-02, 4.6920e-01],\n",
       "       grad_fn=<ViewBackward0>)"
      ]
     },
     "execution_count": 23,
     "metadata": {},
     "output_type": "execute_result"
    }
   ],
   "source": [
    "out.view(-1)"
   ]
  }
 ],
 "metadata": {
  "kernelspec": {
   "display_name": "Python [conda env:base] *",
   "language": "python",
   "name": "conda-base-py"
  },
  "language_info": {
   "codemirror_mode": {
    "name": "ipython",
    "version": 3
   },
   "file_extension": ".py",
   "mimetype": "text/x-python",
   "name": "python",
   "nbconvert_exporter": "python",
   "pygments_lexer": "ipython3",
   "version": "3.12.3"
  }
 },
 "nbformat": 4,
 "nbformat_minor": 5
}
